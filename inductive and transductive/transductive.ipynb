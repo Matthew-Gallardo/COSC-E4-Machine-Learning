{
 "cells": [
  {
   "cell_type": "markdown",
   "metadata": {},
   "source": [
    "## Transductive Learning: \n",
    "Gender Name Classification\n",
    "\n",
    "**Dataset:**  \n",
    "UCI Machine Learning Repository  \n",
    "*Gender by Name Dataset\n",
    "\n",
    "**Attributes:**\n",
    "- attributes first names to genders.\n"
   ]
  },
  {
   "cell_type": "code",
   "execution_count": 119,
   "metadata": {},
   "outputs": [],
   "source": [
    "import pandas as pd\n",
    "from sklearn.feature_extraction.text import TfidfVectorizer\n",
    "from sklearn.semi_supervised import SelfTrainingClassifier\n",
    "from sklearn.model_selection import train_test_split\n",
    "from sklearn.metrics import accuracy_score, classification_report\n",
    "from sklearn.naive_bayes import MultinomialNB"
   ]
  },
  {
   "cell_type": "code",
   "execution_count": 120,
   "metadata": {},
   "outputs": [
    {
     "data": {
      "text/html": [
       "<div>\n",
       "<style scoped>\n",
       "    .dataframe tbody tr th:only-of-type {\n",
       "        vertical-align: middle;\n",
       "    }\n",
       "\n",
       "    .dataframe tbody tr th {\n",
       "        vertical-align: top;\n",
       "    }\n",
       "\n",
       "    .dataframe thead th {\n",
       "        text-align: right;\n",
       "    }\n",
       "</style>\n",
       "<table border=\"1\" class=\"dataframe\">\n",
       "  <thead>\n",
       "    <tr style=\"text-align: right;\">\n",
       "      <th></th>\n",
       "      <th>Name</th>\n",
       "      <th>Gender</th>\n",
       "    </tr>\n",
       "  </thead>\n",
       "  <tbody>\n",
       "    <tr>\n",
       "      <th>0</th>\n",
       "      <td>James</td>\n",
       "      <td>0</td>\n",
       "    </tr>\n",
       "    <tr>\n",
       "      <th>1</th>\n",
       "      <td>John</td>\n",
       "      <td>0</td>\n",
       "    </tr>\n",
       "    <tr>\n",
       "      <th>2</th>\n",
       "      <td>Robert</td>\n",
       "      <td>0</td>\n",
       "    </tr>\n",
       "    <tr>\n",
       "      <th>3</th>\n",
       "      <td>Michael</td>\n",
       "      <td>0</td>\n",
       "    </tr>\n",
       "    <tr>\n",
       "      <th>4</th>\n",
       "      <td>William</td>\n",
       "      <td>0</td>\n",
       "    </tr>\n",
       "    <tr>\n",
       "      <th>...</th>\n",
       "      <td>...</td>\n",
       "      <td>...</td>\n",
       "    </tr>\n",
       "    <tr>\n",
       "      <th>147264</th>\n",
       "      <td>Zylenn</td>\n",
       "      <td>0</td>\n",
       "    </tr>\n",
       "    <tr>\n",
       "      <th>147265</th>\n",
       "      <td>Zymeon</td>\n",
       "      <td>0</td>\n",
       "    </tr>\n",
       "    <tr>\n",
       "      <th>147266</th>\n",
       "      <td>Zyndel</td>\n",
       "      <td>0</td>\n",
       "    </tr>\n",
       "    <tr>\n",
       "      <th>147267</th>\n",
       "      <td>Zyshan</td>\n",
       "      <td>0</td>\n",
       "    </tr>\n",
       "    <tr>\n",
       "      <th>147268</th>\n",
       "      <td>Zyton</td>\n",
       "      <td>0</td>\n",
       "    </tr>\n",
       "  </tbody>\n",
       "</table>\n",
       "<p>147269 rows × 2 columns</p>\n",
       "</div>"
      ],
      "text/plain": [
       "           Name  Gender\n",
       "0         James       0\n",
       "1          John       0\n",
       "2        Robert       0\n",
       "3       Michael       0\n",
       "4       William       0\n",
       "...         ...     ...\n",
       "147264   Zylenn       0\n",
       "147265   Zymeon       0\n",
       "147266   Zyndel       0\n",
       "147267   Zyshan       0\n",
       "147268    Zyton       0\n",
       "\n",
       "[147269 rows x 2 columns]"
      ]
     },
     "execution_count": 120,
     "metadata": {},
     "output_type": "execute_result"
    }
   ],
   "source": [
    "#Load the dataset\n",
    "data = pd.read_csv('name_gender_dataset.csv')\n",
    "data = data.drop(['Count', 'Probability'], axis=1)\n",
    "#Convert the label to numerical data\n",
    "data['Gender'] = data['Gender'].map({'M': 0, 'F': 1})\n",
    "\n",
    "data"
   ]
  },
  {
   "cell_type": "code",
   "execution_count": 121,
   "metadata": {},
   "outputs": [],
   "source": [
    "# Split the dataset into labeled and unlabeled sets\n",
    "labeled_data, unlabeled_data = train_test_split(data, test_size=0.5, random_state=42, stratify=data['Gender'])\n",
    "\n",
    "# Drop the gender labels from the unlabeled data\n",
    "unlabeled_data_indices = unlabeled_data.index\n",
    "unlabeled_data = unlabeled_data.drop('Gender', axis=1)"
   ]
  },
  {
   "cell_type": "code",
   "execution_count": 122,
   "metadata": {},
   "outputs": [
    {
     "name": "stdout",
     "output_type": "stream",
     "text": [
      "Transductive Semi-Supervised Accuracy: 0.5790724519589869\n",
      "              precision    recall  f1-score   support\n",
      "\n",
      "           0       0.23      0.03      0.06     28760\n",
      "           1       0.60      0.93      0.73     44875\n",
      "\n",
      "    accuracy                           0.58     73635\n",
      "   macro avg       0.42      0.48      0.39     73635\n",
      "weighted avg       0.46      0.58      0.47     73635\n",
      "\n"
     ]
    }
   ],
   "source": [
    "# Vectorize text data\n",
    "vectorizer = TfidfVectorizer()\n",
    "X_labeled = vectorizer.fit_transform(labeled_data['Name'])\n",
    "X_unlabeled = vectorizer.transform(unlabeled_data['Name'])\n",
    "\n",
    "\n",
    "y_labeled = labeled_data['Gender']\n",
    "\n",
    "# Combine labeled and unlabeled data\n",
    "combined_X = vectorizer.transform(pd.concat([labeled_data['Name'], unlabeled_data['Name']]))\n",
    "combined_y = pd.concat([y_labeled, pd.Series([-1] * len(unlabeled_data))], ignore_index=True)\n",
    "\n",
    "# Train a SelfTrainingClassifier\n",
    "self_training_model = SelfTrainingClassifier(MultinomialNB())\n",
    "self_training_model.fit(combined_X, combined_y)\n",
    "\n",
    "# Predict on the unlabeled data\n",
    "unlabeled_predictions = self_training_model.predict(X_unlabeled)\n",
    "\n",
    "aligned_labels = data.loc[unlabeled_data_indices, 'Gender']\n",
    "\n",
    "# Evaluate the model\n",
    "print(f\"Transductive Semi-Supervised Accuracy: {accuracy_score(aligned_labels, unlabeled_predictions)}\")\n",
    "print(classification_report(aligned_labels, unlabeled_predictions))"
   ]
  }
 ],
 "metadata": {
  "kernelspec": {
   "display_name": "Python 3",
   "language": "python",
   "name": "python3"
  },
  "language_info": {
   "codemirror_mode": {
    "name": "ipython",
    "version": 3
   },
   "file_extension": ".py",
   "mimetype": "text/x-python",
   "name": "python",
   "nbconvert_exporter": "python",
   "pygments_lexer": "ipython3",
   "version": "3.11.0"
  }
 },
 "nbformat": 4,
 "nbformat_minor": 2
}
